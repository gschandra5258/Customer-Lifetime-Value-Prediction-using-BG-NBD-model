{
 "cells": [
  {
   "cell_type": "code",
   "execution_count": 1,
   "metadata": {},
   "outputs": [
    {
     "name": "stdout",
     "output_type": "stream",
     "text": [
      "3.7.4\n"
     ]
    }
   ],
   "source": [
    "#Checking the python version\n",
    "from platform import python_version\n",
    "\n",
    "print(python_version())"
   ]
  },
  {
   "cell_type": "code",
   "execution_count": 2,
   "metadata": {},
   "outputs": [
    {
     "data": {
      "text/html": [
       "        <script type=\"text/javascript\">\n",
       "        window.PlotlyConfig = {MathJaxConfig: 'local'};\n",
       "        if (window.MathJax) {MathJax.Hub.Config({SVG: {font: \"STIX-Web\"}});}\n",
       "        if (typeof require !== 'undefined') {\n",
       "        require.undef(\"plotly\");\n",
       "        requirejs.config({\n",
       "            paths: {\n",
       "                'plotly': ['https://cdn.plot.ly/plotly-latest.min']\n",
       "            }\n",
       "        });\n",
       "        require(['plotly'], function(Plotly) {\n",
       "            window._Plotly = Plotly;\n",
       "        });\n",
       "        }\n",
       "        </script>\n",
       "        "
      ]
     },
     "metadata": {},
     "output_type": "display_data"
    },
    {
     "name": "stderr",
     "output_type": "stream",
     "text": [
      "C:\\Users\\Gollamudi\\Anaconda3\\lib\\site-packages\\statsmodels\\tools\\_testing.py:19: FutureWarning:\n",
      "\n",
      "pandas.util.testing is deprecated. Use the functions in the public API at pandas.testing instead.\n",
      "\n",
      "Using TensorFlow backend.\n"
     ]
    }
   ],
   "source": [
    "#Importing required librarires\n",
    "import pandas as pd\n",
    "import matplotlib as plt\n",
    "import numpy as np\n",
    "from plotly import tools\n",
    "import plotly.figure_factory as ff\n",
    "import plotly.graph_objs as go\n",
    "from plotly.offline import download_plotlyjs, init_notebook_mode, plot, iplot\n",
    "init_notebook_mode(connected=True)\n",
    "from matplotlib.ticker import FuncFormatter\n",
    "import seaborn as sns\n",
    "import missingno as msno\n",
    "import sklearn\n",
    "from sklearn.ensemble import RandomForestRegressor\n",
    "from sklearn.model_selection import train_test_split\n",
    "from sklearn import metrics\n",
    "from sklearn.metrics import r2_score\n",
    "from sklearn.metrics import mean_absolute_error\n",
    "from sklearn.metrics import mean_squared_error\n",
    "import lifetimes\n",
    "from lifetimes.plotting import *\n",
    "from lifetimes.utils import *\n",
    "from lifetimes import BetaGeoFitter\n",
    "from lifetimes import GammaGammaFitter\n",
    "from datetime import datetime\n",
    "from math import *\n",
    "import math\n",
    "import tensorflow as tf\n",
    "from tensorflow import keras\n",
    "from tensorflow.keras import layers\n",
    "from keras.callbacks import EarlyStopping"
   ]
  },
  {
   "cell_type": "code",
   "execution_count": 3,
   "metadata": {},
   "outputs": [],
   "source": [
    "#Importing data into a dataframe\n",
    "txn_data = pd.concat(pd.read_excel('E:/Dataset/online_retail_II.xlsx', sheet_name=None), ignore_index=True)"
   ]
  },
  {
   "cell_type": "code",
   "execution_count": 4,
   "metadata": {},
   "outputs": [
    {
     "data": {
      "text/html": [
       "<div>\n",
       "<style scoped>\n",
       "    .dataframe tbody tr th:only-of-type {\n",
       "        vertical-align: middle;\n",
       "    }\n",
       "\n",
       "    .dataframe tbody tr th {\n",
       "        vertical-align: top;\n",
       "    }\n",
       "\n",
       "    .dataframe thead th {\n",
       "        text-align: right;\n",
       "    }\n",
       "</style>\n",
       "<table border=\"1\" class=\"dataframe\">\n",
       "  <thead>\n",
       "    <tr style=\"text-align: right;\">\n",
       "      <th></th>\n",
       "      <th>Invoice</th>\n",
       "      <th>StockCode</th>\n",
       "      <th>Description</th>\n",
       "      <th>Quantity</th>\n",
       "      <th>InvoiceDate</th>\n",
       "      <th>Price</th>\n",
       "      <th>Customer ID</th>\n",
       "      <th>Country</th>\n",
       "    </tr>\n",
       "  </thead>\n",
       "  <tbody>\n",
       "    <tr>\n",
       "      <th>0</th>\n",
       "      <td>489434</td>\n",
       "      <td>85048</td>\n",
       "      <td>15CM CHRISTMAS GLASS BALL 20 LIGHTS</td>\n",
       "      <td>12</td>\n",
       "      <td>2009-12-01 07:45:00</td>\n",
       "      <td>6.95</td>\n",
       "      <td>13085.0</td>\n",
       "      <td>United Kingdom</td>\n",
       "    </tr>\n",
       "    <tr>\n",
       "      <th>1</th>\n",
       "      <td>489434</td>\n",
       "      <td>79323P</td>\n",
       "      <td>PINK CHERRY LIGHTS</td>\n",
       "      <td>12</td>\n",
       "      <td>2009-12-01 07:45:00</td>\n",
       "      <td>6.75</td>\n",
       "      <td>13085.0</td>\n",
       "      <td>United Kingdom</td>\n",
       "    </tr>\n",
       "    <tr>\n",
       "      <th>2</th>\n",
       "      <td>489434</td>\n",
       "      <td>79323W</td>\n",
       "      <td>WHITE CHERRY LIGHTS</td>\n",
       "      <td>12</td>\n",
       "      <td>2009-12-01 07:45:00</td>\n",
       "      <td>6.75</td>\n",
       "      <td>13085.0</td>\n",
       "      <td>United Kingdom</td>\n",
       "    </tr>\n",
       "    <tr>\n",
       "      <th>3</th>\n",
       "      <td>489434</td>\n",
       "      <td>22041</td>\n",
       "      <td>RECORD FRAME 7\" SINGLE SIZE</td>\n",
       "      <td>48</td>\n",
       "      <td>2009-12-01 07:45:00</td>\n",
       "      <td>2.10</td>\n",
       "      <td>13085.0</td>\n",
       "      <td>United Kingdom</td>\n",
       "    </tr>\n",
       "    <tr>\n",
       "      <th>4</th>\n",
       "      <td>489434</td>\n",
       "      <td>21232</td>\n",
       "      <td>STRAWBERRY CERAMIC TRINKET BOX</td>\n",
       "      <td>24</td>\n",
       "      <td>2009-12-01 07:45:00</td>\n",
       "      <td>1.25</td>\n",
       "      <td>13085.0</td>\n",
       "      <td>United Kingdom</td>\n",
       "    </tr>\n",
       "  </tbody>\n",
       "</table>\n",
       "</div>"
      ],
      "text/plain": [
       "  Invoice StockCode                          Description  Quantity  \\\n",
       "0  489434     85048  15CM CHRISTMAS GLASS BALL 20 LIGHTS        12   \n",
       "1  489434    79323P                   PINK CHERRY LIGHTS        12   \n",
       "2  489434    79323W                  WHITE CHERRY LIGHTS        12   \n",
       "3  489434     22041         RECORD FRAME 7\" SINGLE SIZE         48   \n",
       "4  489434     21232       STRAWBERRY CERAMIC TRINKET BOX        24   \n",
       "\n",
       "          InvoiceDate  Price  Customer ID         Country  \n",
       "0 2009-12-01 07:45:00   6.95      13085.0  United Kingdom  \n",
       "1 2009-12-01 07:45:00   6.75      13085.0  United Kingdom  \n",
       "2 2009-12-01 07:45:00   6.75      13085.0  United Kingdom  \n",
       "3 2009-12-01 07:45:00   2.10      13085.0  United Kingdom  \n",
       "4 2009-12-01 07:45:00   1.25      13085.0  United Kingdom  "
      ]
     },
     "execution_count": 4,
     "metadata": {},
     "output_type": "execute_result"
    }
   ],
   "source": [
    "#Displaying the first few records of data\n",
    "txn_data.head()"
   ]
  },
  {
   "cell_type": "code",
   "execution_count": 5,
   "metadata": {},
   "outputs": [
    {
     "data": {
      "text/plain": [
       "(1067371, 8)"
      ]
     },
     "execution_count": 5,
     "metadata": {},
     "output_type": "execute_result"
    }
   ],
   "source": [
    "#Checking the shape of data\n",
    "txn_data.shape"
   ]
  },
  {
   "cell_type": "markdown",
   "metadata": {},
   "source": [
    "# Data Preprocessing and EDA"
   ]
  },
  {
   "cell_type": "code",
   "execution_count": 6,
   "metadata": {},
   "outputs": [
    {
     "data": {
      "text/plain": [
       "Invoice             0\n",
       "StockCode           0\n",
       "Description      4382\n",
       "Quantity            0\n",
       "InvoiceDate         0\n",
       "Price               0\n",
       "Customer ID    243007\n",
       "Country             0\n",
       "dtype: int64"
      ]
     },
     "execution_count": 6,
     "metadata": {},
     "output_type": "execute_result"
    }
   ],
   "source": [
    "#Checking null values\n",
    "txn_data.isnull().sum(axis=0)"
   ]
  },
  {
   "cell_type": "code",
   "execution_count": 7,
   "metadata": {},
   "outputs": [
    {
     "data": {
      "text/plain": [
       "<matplotlib.axes._subplots.AxesSubplot at 0x23db53b1248>"
      ]
     },
     "execution_count": 7,
     "metadata": {},
     "output_type": "execute_result"
    },
    {
     "data": {
      "image/png": "[encoded data removed]",
      "text/plain": [
       "<Figure size 1800x720 with 2 Axes>"
      ]
     },
     "metadata": {
      "needs_background": "light"
     },
     "output_type": "display_data"
    }
   ],
   "source": [
    "#In the above cell there are missing values in 2 columns, visualising those in the form of graph\n",
    "msno.matrix(txn_data)"
   ]
  },
  {
   "cell_type": "code",
   "execution_count": 8,
   "metadata": {},
   "outputs": [],
   "source": [
    "#Dropping NA values from Customer ID column, since there is no use of those records\n",
    "txn_data= txn_data.dropna(subset=['Customer ID'])"
   ]
  },
  {
   "cell_type": "code",
   "execution_count": 9,
   "metadata": {},
   "outputs": [
    {
     "data": {
      "text/plain": [
       "Invoice        0\n",
       "StockCode      0\n",
       "Description    0\n",
       "Quantity       0\n",
       "InvoiceDate    0\n",
       "Price          0\n",
       "Customer ID    0\n",
       "Country        0\n",
       "dtype: int64"
      ]
     },
     "execution_count": 9,
     "metadata": {},
     "output_type": "execute_result"
    }
   ],
   "source": [
    "#Checking the null values\n",
    "txn_data.isnull().sum()"
   ]
  },
  {
   "cell_type": "code",
   "execution_count": 10,
   "metadata": {},
   "outputs": [
    {
     "data": {
      "text/plain": [
       "26479"
      ]
     },
     "execution_count": 10,
     "metadata": {},
     "output_type": "execute_result"
    }
   ],
   "source": [
    "#Verifying the duplicated records in the data\n",
    "txn_data.duplicated().sum()"
   ]
  },
  {
   "cell_type": "code",
   "execution_count": 11,
   "metadata": {},
   "outputs": [],
   "source": [
    "#Removing the duplicated records, existence of these records may cause the models wrong prediction\n",
    "txn_data = txn_data.drop_duplicates()"
   ]
  },
  {
   "cell_type": "code",
   "execution_count": 12,
   "metadata": {},
   "outputs": [
    {
     "data": {
      "text/html": [
       "<div>\n",
       "<style scoped>\n",
       "    .dataframe tbody tr th:only-of-type {\n",
       "        vertical-align: middle;\n",
       "    }\n",
       "\n",
       "    .dataframe tbody tr th {\n",
       "        vertical-align: top;\n",
       "    }\n",
       "\n",
       "    .dataframe thead th {\n",
       "        text-align: right;\n",
       "    }\n",
       "</style>\n",
       "<table border=\"1\" class=\"dataframe\">\n",
       "  <thead>\n",
       "    <tr style=\"text-align: right;\">\n",
       "      <th></th>\n",
       "      <th>Quantity</th>\n",
       "      <th>Price</th>\n",
       "      <th>Customer ID</th>\n",
       "    </tr>\n",
       "  </thead>\n",
       "  <tbody>\n",
       "    <tr>\n",
       "      <th>count</th>\n",
       "      <td>797885.000000</td>\n",
       "      <td>797885.000000</td>\n",
       "      <td>797885.000000</td>\n",
       "    </tr>\n",
       "    <tr>\n",
       "      <th>mean</th>\n",
       "      <td>12.602980</td>\n",
       "      <td>3.702732</td>\n",
       "      <td>15313.062777</td>\n",
       "    </tr>\n",
       "    <tr>\n",
       "      <th>std</th>\n",
       "      <td>191.670371</td>\n",
       "      <td>71.392549</td>\n",
       "      <td>1696.466663</td>\n",
       "    </tr>\n",
       "    <tr>\n",
       "      <th>min</th>\n",
       "      <td>-80995.000000</td>\n",
       "      <td>0.000000</td>\n",
       "      <td>12346.000000</td>\n",
       "    </tr>\n",
       "    <tr>\n",
       "      <th>25%</th>\n",
       "      <td>2.000000</td>\n",
       "      <td>1.250000</td>\n",
       "      <td>13964.000000</td>\n",
       "    </tr>\n",
       "    <tr>\n",
       "      <th>50%</th>\n",
       "      <td>5.000000</td>\n",
       "      <td>1.950000</td>\n",
       "      <td>15228.000000</td>\n",
       "    </tr>\n",
       "    <tr>\n",
       "      <th>75%</th>\n",
       "      <td>12.000000</td>\n",
       "      <td>3.750000</td>\n",
       "      <td>16788.000000</td>\n",
       "    </tr>\n",
       "    <tr>\n",
       "      <th>max</th>\n",
       "      <td>80995.000000</td>\n",
       "      <td>38970.000000</td>\n",
       "      <td>18287.000000</td>\n",
       "    </tr>\n",
       "  </tbody>\n",
       "</table>\n",
       "</div>"
      ],
      "text/plain": [
       "            Quantity          Price    Customer ID\n",
       "count  797885.000000  797885.000000  797885.000000\n",
       "mean       12.602980       3.702732   15313.062777\n",
       "std       191.670371      71.392549    1696.466663\n",
       "min    -80995.000000       0.000000   12346.000000\n",
       "25%         2.000000       1.250000   13964.000000\n",
       "50%         5.000000       1.950000   15228.000000\n",
       "75%        12.000000       3.750000   16788.000000\n",
       "max     80995.000000   38970.000000   18287.000000"
      ]
     },
     "execution_count": 12,
     "metadata": {},
     "output_type": "execute_result"
    }
   ],
   "source": [
    "#Summary of the data\n",
    "txn_data.describe()"
   ]
  },
  {
   "cell_type": "code",
   "execution_count": 13,
   "metadata": {},
   "outputs": [
    {
     "data": {
      "text/plain": [
       "<matplotlib.axes._subplots.AxesSubplot at 0x23db47f38c8>"
      ]
     },
     "execution_count": 13,
     "metadata": {},
     "output_type": "execute_result"
    },
    {
     "data": {
      "image/png": "[encoded data removed]",
      "text/plain": [
       "<Figure size 432x288 with 1 Axes>"
      ]
     },
     "metadata": {
      "needs_background": "light"
     },
     "output_type": "display_data"
    }
   ],
   "source": [
    "#Outliers Identification and Treatment\n",
    "sns.boxplot(x=txn_data['Price'])"
   ]
  },
  {
   "cell_type": "code",
   "execution_count": 14,
   "metadata": {},
   "outputs": [
    {
     "data": {
      "text/plain": [
       "<matplotlib.axes._subplots.AxesSubplot at 0x23db2754b88>"
      ]
     },
     "execution_count": 14,
     "metadata": {},
     "output_type": "execute_result"
    },
    {
     "data": {
      "image/png": "[encoded data removed]",
      "text/plain": [
       "<Figure size 432x288 with 1 Axes>"
      ]
     },
     "metadata": {
      "needs_background": "light"
     },
     "output_type": "display_data"
    }
   ],
   "source": [
    "sns.boxplot(x=txn_data['Quantity'])"
   ]
  },
  {
   "cell_type": "code",
   "execution_count": 15,
   "metadata": {},
   "outputs": [
    {
     "name": "stdout",
     "output_type": "stream",
     "text": [
      "Quantity         10.0\n",
      "Price             2.5\n",
      "Customer ID    2824.0\n",
      "dtype: float64\n"
     ]
    }
   ],
   "source": [
    "#IQR range to remove outliers\n",
    "Q1 = txn_data.quantile(0.25)\n",
    "Q3 = txn_data.quantile(0.75)\n",
    "IQR = Q3-Q1\n",
    "print(IQR)"
   ]
  },
  {
   "cell_type": "code",
   "execution_count": 16,
   "metadata": {},
   "outputs": [
    {
     "name": "stdout",
     "output_type": "stream",
     "text": [
      "306.24318953208103\n"
     ]
    }
   ],
   "source": [
    "# Checking the skewnes for Price column\n",
    "print(txn_data['Price'].skew())"
   ]
  },
  {
   "cell_type": "code",
   "execution_count": 17,
   "metadata": {},
   "outputs": [
    {
     "data": {
      "text/plain": [
       "count    797885.000000\n",
       "mean          3.702732\n",
       "std          71.392549\n",
       "min           0.000000\n",
       "25%           1.250000\n",
       "50%           1.950000\n",
       "75%           3.750000\n",
       "max       38970.000000\n",
       "Name: Price, dtype: float64"
      ]
     },
     "execution_count": 17,
     "metadata": {},
     "output_type": "execute_result"
    }
   ],
   "source": [
    "txn_data['Price'].describe()"
   ]
  },
  {
   "cell_type": "code",
   "execution_count": 18,
   "metadata": {},
   "outputs": [
    {
     "name": "stdout",
     "output_type": "stream",
     "text": [
      "5.167440516193988\n"
     ]
    }
   ],
   "source": [
    "# Checking the skewnes for Quantity column\n",
    "print(txn_data['Quantity'].skew())"
   ]
  },
  {
   "cell_type": "code",
   "execution_count": 19,
   "metadata": {},
   "outputs": [
    {
     "data": {
      "text/plain": [
       "count    797885.000000\n",
       "mean         12.602980\n",
       "std         191.670371\n",
       "min      -80995.000000\n",
       "25%           2.000000\n",
       "50%           5.000000\n",
       "75%          12.000000\n",
       "max       80995.000000\n",
       "Name: Quantity, dtype: float64"
      ]
     },
     "execution_count": 19,
     "metadata": {},
     "output_type": "execute_result"
    }
   ],
   "source": [
    "txn_data['Quantity'].describe()"
   ]
  },
  {
   "cell_type": "code",
   "execution_count": 20,
   "metadata": {},
   "outputs": [
    {
     "name": "stdout",
     "output_type": "stream",
     "text": [
      "0.55\n",
      "6.75\n"
     ]
    }
   ],
   "source": [
    "#Checking the quartile range of Price column in order to remove the skewness in the data\n",
    "print(txn_data['Price'].quantile(0.10))\n",
    "print(txn_data['Price'].quantile(0.90))"
   ]
  },
  {
   "cell_type": "code",
   "execution_count": 21,
   "metadata": {},
   "outputs": [
    {
     "name": "stdout",
     "output_type": "stream",
     "text": [
      "0.9854118762826481\n"
     ]
    }
   ],
   "source": [
    "#Removing the skewness\n",
    "txn_data[\"Price\"] = np.where(txn_data[\"Price\"] <0.55, 0.55,txn_data['Price'])\n",
    "txn_data[\"Price\"] = np.where(txn_data[\"Price\"] >6.75, 6.75,txn_data['Price'])\n",
    "print(txn_data['Price'].skew())"
   ]
  },
  {
   "cell_type": "code",
   "execution_count": 22,
   "metadata": {},
   "outputs": [
    {
     "name": "stdout",
     "output_type": "stream",
     "text": [
      "1.0\n",
      "24.0\n"
     ]
    }
   ],
   "source": [
    "#Checking the quartile range of Quantity column in order to remove the skewness in the data\n",
    "print(txn_data['Quantity'].quantile(0.10))\n",
    "print(txn_data['Quantity'].quantile(0.90))"
   ]
  },
  {
   "cell_type": "code",
   "execution_count": 23,
   "metadata": {},
   "outputs": [
    {
     "name": "stdout",
     "output_type": "stream",
     "text": [
      "1.1013842999278112\n"
     ]
    }
   ],
   "source": [
    "#Removing the skewness\n",
    "txn_data[\"Quantity\"] = np.where(txn_data[\"Quantity\"] <1.0, 1.0,txn_data['Quantity'])\n",
    "txn_data[\"Quantity\"] = np.where(txn_data[\"Quantity\"] >24.0, 24.0,txn_data['Quantity'])\n",
    "print(txn_data['Quantity'].skew())"
   ]
  },
  {
   "cell_type": "code",
   "execution_count": 24,
   "metadata": {},
   "outputs": [
    {
     "data": {
      "text/plain": [
       "<matplotlib.axes._subplots.AxesSubplot at 0x23db75bf4c8>"
      ]
     },
     "execution_count": 24,
     "metadata": {},
     "output_type": "execute_result"
    },
    {
     "data": {
      "image/png": "[encoded data removed]",
      "text/plain": [
       "<Figure size 432x288 with 1 Axes>"
      ]
     },
     "metadata": {
      "needs_background": "light"
     },
     "output_type": "display_data"
    }
   ],
   "source": [
    "#After removing the outliers\n",
    "sns.boxplot(x=txn_data['Price'])"
   ]
  },
  {
   "cell_type": "code",
   "execution_count": 25,
   "metadata": {},
   "outputs": [
    {
     "data": {
      "text/plain": [
       "<matplotlib.axes._subplots.AxesSubplot at 0x23db8a5ddc8>"
      ]
     },
     "execution_count": 25,
     "metadata": {},
     "output_type": "execute_result"
    },
    {
     "data": {
      "image/png": "[encoded data removed]",
      "text/plain": [
       "<Figure size 432x288 with 1 Axes>"
      ]
     },
     "metadata": {
      "needs_background": "light"
     },
     "output_type": "display_data"
    }
   ],
   "source": [
    "#After removing the outliers\n",
    "sns.boxplot(x=txn_data['Quantity'])"
   ]
  },
  {
   "cell_type": "code",
   "execution_count": 26,
   "metadata": {},
   "outputs": [],
   "source": [
    "#Keeping only positive records in other words we are ignoring the transactions which are cancelled\n",
    "txn_data = txn_data[(txn_data['Quantity']>0)]"
   ]
  },
  {
   "cell_type": "code",
   "execution_count": 27,
   "metadata": {},
   "outputs": [
    {
     "data": {
      "text/plain": [
       "0"
      ]
     },
     "execution_count": 27,
     "metadata": {},
     "output_type": "execute_result"
    }
   ],
   "source": [
    "# Check the number of invoices that starts with letter 'c', cancellation.\n",
    "txn_data['Invoice'] = txn_data['Invoice'].astype('str')\n",
    "txn_data[txn_data['Invoice'].str.contains(\"c\")].shape[0]"
   ]
  },
  {
   "cell_type": "code",
   "execution_count": 28,
   "metadata": {},
   "outputs": [],
   "source": [
    "#Cretaing total revenue column\n",
    "txn_data['Total_Revenue'] = txn_data['Quantity'] * txn_data['Price']"
   ]
  },
  {
   "cell_type": "code",
   "execution_count": 29,
   "metadata": {},
   "outputs": [
    {
     "data": {
      "image/png": "[encoded data removed]",
      "text/plain": [
       "<Figure size 432x288 with 1 Axes>"
      ]
     },
     "metadata": {
      "needs_background": "light"
     },
     "output_type": "display_data"
    }
   ],
   "source": [
    "#Verifying the monthly purchases\n",
    "import matplotlib.pyplot as plt\n",
    "txn_data[\"date\"] = txn_data[\"InvoiceDate\"].dt.strftime(\"%Y-%m\")\n",
    "monthly_purchases = (\n",
    "    txn_data.groupby([\"date\"])[[\"Total_Revenue\"]]\n",
    "    .agg(\"sum\")\n",
    "    .reset_index()\n",
    ")\n",
    "monthly_purchases = monthly_purchases.sort_values(by=[\"date\"])\n",
    "\n",
    "\n",
    "def millions(x, pos):\n",
    "    \"The two args are the value and tick position\"\n",
    "    return \"$%1.1fM\" % (x * 1e-6)\n",
    "\n",
    "\n",
    "formatter = FuncFormatter(millions)\n",
    "\n",
    "fig, ax = plt.subplots()\n",
    "ax.yaxis.set_major_formatter(formatter)\n",
    "monthly_purchases.plot(\n",
    "    kind=\"bar\", x=\"date\", y=\"Total_Revenue\", ax=ax, title=\"Monthly Purchases\"\n",
    ")\n",
    "plt.show()"
   ]
  },
  {
   "cell_type": "code",
   "execution_count": 30,
   "metadata": {},
   "outputs": [],
   "source": [
    "#Converting date-time\n",
    "txn_data['InvoiceDate'] = pd.to_datetime(txn_data.InvoiceDate, format = '%d/%m/%Y %H:%M')\n",
    "txn_data['date'] = pd.to_datetime(txn_data.InvoiceDate.dt.date)\n",
    "txn_data['time'] = txn_data.InvoiceDate.dt.time\n",
    "txn_data['hour'] = txn_data['time'].apply(lambda x: x.hour)\n",
    "txn_data['weekend'] = txn_data['date'].apply(lambda x: x.weekday() in [5, 6])\n",
    "txn_data['dayofweek'] = txn_data['date'].apply(lambda x: x.dayofweek)"
   ]
  },
  {
   "cell_type": "code",
   "execution_count": 31,
   "metadata": {},
   "outputs": [
    {
     "data": {
      "image/png": "[encoded data removed]",
      "text/plain": [
       "<Figure size 1584x648 with 1 Axes>"
      ]
     },
     "metadata": {
      "needs_background": "light"
     },
     "output_type": "display_data"
    }
   ],
   "source": [
    "#Verifying the most purcahsed country\n",
    "most_purchased_bycountry = pd.DataFrame(txn_data['Country'].value_counts().head(20)).rename(columns={'Price':'Count'})\n",
    "\n",
    "plt.figure(figsize=(22,9))\n",
    "plt.xticks(rotation=45)\n",
    "plt.plot(most_purchased_bycountry, 'b*-')\n",
    "plt.grid()"
   ]
  },
  {
   "cell_type": "code",
   "execution_count": 32,
   "metadata": {},
   "outputs": [
    {
     "data": {
      "image/png": "[encoded data removed]",
      "text/plain": [
       "<Figure size 1728x648 with 1 Axes>"
      ]
     },
     "metadata": {
      "needs_background": "light"
     },
     "output_type": "display_data"
    }
   ],
   "source": [
    "#Verifying the most purchased item\n",
    "most_purchased_item = pd.DataFrame(txn_data['Description'].value_counts().head(20)).rename(columns={'Description':'Count'})\n",
    "\n",
    "plt.figure(figsize=(24,9))\n",
    "plt.xticks(rotation=45)\n",
    "plt.plot(most_purchased_bycountry, 'r*-')\n",
    "plt.grid()"
   ]
  },
  {
   "cell_type": "code",
   "execution_count": 33,
   "metadata": {},
   "outputs": [
    {
     "data": {
      "image/png": "[encoded data removed]",
      "text/plain": [
       "<Figure size 1728x648 with 1 Axes>"
      ]
     },
     "metadata": {
      "needs_background": "light"
     },
     "output_type": "display_data"
    }
   ],
   "source": [
    "#Since the data consists of more UK purcahes, verifying the countries with more purchases other than the UK \n",
    "nonuk_df = txn_data[txn_data['Country'] != 'United Kingdom']\n",
    "most_purchased_bycountry_nonuk = pd.DataFrame(nonuk_df['Country'].value_counts().head(20)).rename(columns={'Country':'Count'})\n",
    "\n",
    "plt.figure(figsize=(24,9))\n",
    "plt.xticks(rotation=45)\n",
    "plt.plot(most_purchased_bycountry_nonuk, 'y*-')\n",
    "plt.grid()"
   ]
  },
  {
   "cell_type": "code",
   "execution_count": 34,
   "metadata": {},
   "outputs": [
    {
     "data": {
      "text/html": [
       "<div>\n",
       "<style scoped>\n",
       "    .dataframe tbody tr th:only-of-type {\n",
       "        vertical-align: middle;\n",
       "    }\n",
       "\n",
       "    .dataframe tbody tr th {\n",
       "        vertical-align: top;\n",
       "    }\n",
       "\n",
       "    .dataframe thead th {\n",
       "        text-align: right;\n",
       "    }\n",
       "</style>\n",
       "<table border=\"1\" class=\"dataframe\">\n",
       "  <thead>\n",
       "    <tr style=\"text-align: right;\">\n",
       "      <th></th>\n",
       "      <th>Customer ID</th>\n",
       "      <th>InvoiceDate</th>\n",
       "      <th>Total_Revenue</th>\n",
       "      <th>Invoice</th>\n",
       "      <th>date</th>\n",
       "    </tr>\n",
       "  </thead>\n",
       "  <tbody>\n",
       "    <tr>\n",
       "      <th>0</th>\n",
       "      <td>13085.0</td>\n",
       "      <td>2009-12-01 07:45:00</td>\n",
       "      <td>81.0</td>\n",
       "      <td>489434</td>\n",
       "      <td>2009-12-01</td>\n",
       "    </tr>\n",
       "    <tr>\n",
       "      <th>1</th>\n",
       "      <td>13085.0</td>\n",
       "      <td>2009-12-01 07:45:00</td>\n",
       "      <td>81.0</td>\n",
       "      <td>489434</td>\n",
       "      <td>2009-12-01</td>\n",
       "    </tr>\n",
       "    <tr>\n",
       "      <th>2</th>\n",
       "      <td>13085.0</td>\n",
       "      <td>2009-12-01 07:45:00</td>\n",
       "      <td>81.0</td>\n",
       "      <td>489434</td>\n",
       "      <td>2009-12-01</td>\n",
       "    </tr>\n",
       "    <tr>\n",
       "      <th>3</th>\n",
       "      <td>13085.0</td>\n",
       "      <td>2009-12-01 07:45:00</td>\n",
       "      <td>50.4</td>\n",
       "      <td>489434</td>\n",
       "      <td>2009-12-01</td>\n",
       "    </tr>\n",
       "    <tr>\n",
       "      <th>4</th>\n",
       "      <td>13085.0</td>\n",
       "      <td>2009-12-01 07:45:00</td>\n",
       "      <td>30.0</td>\n",
       "      <td>489434</td>\n",
       "      <td>2009-12-01</td>\n",
       "    </tr>\n",
       "  </tbody>\n",
       "</table>\n",
       "</div>"
      ],
      "text/plain": [
       "   Customer ID         InvoiceDate  Total_Revenue Invoice       date\n",
       "0      13085.0 2009-12-01 07:45:00           81.0  489434 2009-12-01\n",
       "1      13085.0 2009-12-01 07:45:00           81.0  489434 2009-12-01\n",
       "2      13085.0 2009-12-01 07:45:00           81.0  489434 2009-12-01\n",
       "3      13085.0 2009-12-01 07:45:00           50.4  489434 2009-12-01\n",
       "4      13085.0 2009-12-01 07:45:00           30.0  489434 2009-12-01"
      ]
     },
     "execution_count": 34,
     "metadata": {},
     "output_type": "execute_result"
    }
   ],
   "source": [
    "#Taking only the required columns for further analysis\n",
    "required_cols = ['Customer ID', 'InvoiceDate', 'Total_Revenue', 'Invoice', 'date']\n",
    "tnx_data = txn_data[required_cols]\n",
    "tnx_data.head()"
   ]
  },
  {
   "cell_type": "code",
   "execution_count": 35,
   "metadata": {},
   "outputs": [],
   "source": [
    "#Context data for the revenue (date & customerID)\n",
    "id_lookup = tnx_data[['Customer ID', 'Invoice', 'date']].drop_duplicates()\n",
    "id_lookup.index = id_lookup['Invoice']\n",
    "id_lookup = id_lookup.drop('Invoice', axis=1)\n",
    "\n",
    "transactions_data = pd.DataFrame(tnx_data.groupby('Invoice')['Total_Revenue'].sum()).join(id_lookup)"
   ]
  },
  {
   "cell_type": "code",
   "execution_count": 36,
   "metadata": {},
   "outputs": [
    {
     "data": {
      "text/html": [
       "<div>\n",
       "<style scoped>\n",
       "    .dataframe tbody tr th:only-of-type {\n",
       "        vertical-align: middle;\n",
       "    }\n",
       "\n",
       "    .dataframe tbody tr th {\n",
       "        vertical-align: top;\n",
       "    }\n",
       "\n",
       "    .dataframe thead th {\n",
       "        text-align: right;\n",
       "    }\n",
       "</style>\n",
       "<table border=\"1\" class=\"dataframe\">\n",
       "  <thead>\n",
       "    <tr style=\"text-align: right;\">\n",
       "      <th></th>\n",
       "      <th>Total_Revenue</th>\n",
       "      <th>Customer ID</th>\n",
       "      <th>date</th>\n",
       "    </tr>\n",
       "    <tr>\n",
       "      <th>Invoice</th>\n",
       "      <th></th>\n",
       "      <th></th>\n",
       "      <th></th>\n",
       "    </tr>\n",
       "  </thead>\n",
       "  <tbody>\n",
       "    <tr>\n",
       "      <th>489434</th>\n",
       "      <td>452.50</td>\n",
       "      <td>13085.0</td>\n",
       "      <td>2009-12-01</td>\n",
       "    </tr>\n",
       "    <tr>\n",
       "      <th>489435</th>\n",
       "      <td>145.80</td>\n",
       "      <td>13085.0</td>\n",
       "      <td>2009-12-01</td>\n",
       "    </tr>\n",
       "    <tr>\n",
       "      <th>489436</th>\n",
       "      <td>626.23</td>\n",
       "      <td>13078.0</td>\n",
       "      <td>2009-12-01</td>\n",
       "    </tr>\n",
       "    <tr>\n",
       "      <th>489437</th>\n",
       "      <td>303.15</td>\n",
       "      <td>15362.0</td>\n",
       "      <td>2009-12-01</td>\n",
       "    </tr>\n",
       "    <tr>\n",
       "      <th>489438</th>\n",
       "      <td>1057.20</td>\n",
       "      <td>18102.0</td>\n",
       "      <td>2009-12-01</td>\n",
       "    </tr>\n",
       "  </tbody>\n",
       "</table>\n",
       "</div>"
      ],
      "text/plain": [
       "         Total_Revenue  Customer ID       date\n",
       "Invoice                                       \n",
       "489434          452.50      13085.0 2009-12-01\n",
       "489435          145.80      13085.0 2009-12-01\n",
       "489436          626.23      13078.0 2009-12-01\n",
       "489437          303.15      15362.0 2009-12-01\n",
       "489438         1057.20      18102.0 2009-12-01"
      ]
     },
     "execution_count": 36,
     "metadata": {},
     "output_type": "execute_result"
    }
   ],
   "source": [
    "transactions_data.head()"
   ]
  },
  {
   "cell_type": "code",
   "execution_count": 37,
   "metadata": {},
   "outputs": [
    {
     "name": "stdout",
     "output_type": "stream",
     "text": [
      "5942\n"
     ]
    }
   ],
   "source": [
    "#Checking the unique cutsomers\n",
    "print(tnx_data['Customer ID'].nunique())"
   ]
  },
  {
   "cell_type": "code",
   "execution_count": 38,
   "metadata": {},
   "outputs": [
    {
     "data": {
      "text/plain": [
       "Timestamp('2009-12-01 07:45:00')"
      ]
     },
     "execution_count": 38,
     "metadata": {},
     "output_type": "execute_result"
    }
   ],
   "source": [
    "#Checking the min and max purchase dates\n",
    "min(tnx_data['InvoiceDate'])"
   ]
  },
  {
   "cell_type": "code",
   "execution_count": 39,
   "metadata": {},
   "outputs": [
    {
     "data": {
      "text/plain": [
       "Timestamp('2011-12-09 12:50:00')"
      ]
     },
     "execution_count": 39,
     "metadata": {},
     "output_type": "execute_result"
    }
   ],
   "source": [
    "max(tnx_data['InvoiceDate'])"
   ]
  },
  {
   "cell_type": "markdown",
   "metadata": {},
   "source": [
    "# Statistical Models"
   ]
  },
  {
   "cell_type": "code",
   "execution_count": 40,
   "metadata": {},
   "outputs": [
    {
     "data": {
      "text/html": [
       "<div>\n",
       "<style scoped>\n",
       "    .dataframe tbody tr th:only-of-type {\n",
       "        vertical-align: middle;\n",
       "    }\n",
       "\n",
       "    .dataframe tbody tr th {\n",
       "        vertical-align: top;\n",
       "    }\n",
       "\n",
       "    .dataframe thead th {\n",
       "        text-align: right;\n",
       "    }\n",
       "</style>\n",
       "<table border=\"1\" class=\"dataframe\">\n",
       "  <thead>\n",
       "    <tr style=\"text-align: right;\">\n",
       "      <th></th>\n",
       "      <th>Customer ID</th>\n",
       "      <th>frequency</th>\n",
       "      <th>recency</th>\n",
       "      <th>T</th>\n",
       "      <th>monetary_value</th>\n",
       "    </tr>\n",
       "  </thead>\n",
       "  <tbody>\n",
       "    <tr>\n",
       "      <th>0</th>\n",
       "      <td>12346.0</td>\n",
       "      <td>10.0</td>\n",
       "      <td>400.0</td>\n",
       "      <td>725.0</td>\n",
       "      <td>35.854000</td>\n",
       "    </tr>\n",
       "    <tr>\n",
       "      <th>1</th>\n",
       "      <td>12347.0</td>\n",
       "      <td>7.0</td>\n",
       "      <td>402.0</td>\n",
       "      <td>404.0</td>\n",
       "      <td>548.951429</td>\n",
       "    </tr>\n",
       "    <tr>\n",
       "      <th>2</th>\n",
       "      <td>12348.0</td>\n",
       "      <td>4.0</td>\n",
       "      <td>363.0</td>\n",
       "      <td>438.0</td>\n",
       "      <td>140.637500</td>\n",
       "    </tr>\n",
       "    <tr>\n",
       "      <th>3</th>\n",
       "      <td>12349.0</td>\n",
       "      <td>4.0</td>\n",
       "      <td>717.0</td>\n",
       "      <td>735.0</td>\n",
       "      <td>822.337500</td>\n",
       "    </tr>\n",
       "    <tr>\n",
       "      <th>4</th>\n",
       "      <td>12350.0</td>\n",
       "      <td>0.0</td>\n",
       "      <td>0.0</td>\n",
       "      <td>310.0</td>\n",
       "      <td>0.000000</td>\n",
       "    </tr>\n",
       "  </tbody>\n",
       "</table>\n",
       "</div>"
      ],
      "text/plain": [
       "   Customer ID  frequency  recency      T  monetary_value\n",
       "0      12346.0       10.0    400.0  725.0       35.854000\n",
       "1      12347.0        7.0    402.0  404.0      548.951429\n",
       "2      12348.0        4.0    363.0  438.0      140.637500\n",
       "3      12349.0        4.0    717.0  735.0      822.337500\n",
       "4      12350.0        0.0      0.0  310.0        0.000000"
      ]
     },
     "execution_count": 40,
     "metadata": {},
     "output_type": "execute_result"
    }
   ],
   "source": [
    "#Transforming the transactional data into summary data (recency, frequency, age and monetary)\n",
    "lf_tnx_data = summary_data_from_transaction_data(transactions_data, 'Customer ID', 'date', monetary_value_col='Total_Revenue', observation_period_end = '2011-12-09')\n",
    "lf_tnx_data.reset_index().head()"
   ]
  },
  {
   "cell_type": "code",
   "execution_count": 41,
   "metadata": {},
   "outputs": [
    {
     "name": "stdout",
     "output_type": "stream",
     "text": [
      "count    5942.000000\n",
      "mean        5.479636\n",
      "std        11.293673\n",
      "min         0.000000\n",
      "25%         0.000000\n",
      "50%         2.000000\n",
      "75%         6.000000\n",
      "max       284.000000\n",
      "Name: frequency, dtype: float64\n",
      "Percentage of customers buying only once 25.98 %\n"
     ]
    },
    {
     "data": {
      "image/png": "[encoded data removed]",
      "text/plain": [
       "<Figure size 432x288 with 1 Axes>"
      ]
     },
     "metadata": {
      "needs_background": "light"
     },
     "output_type": "display_data"
    }
   ],
   "source": [
    "%matplotlib inline\n",
    "#Plotting histogram to see how many items are purchased only once by customers\n",
    "lf_tnx_data['frequency'].plot(kind='hist',bins=20)\n",
    "print(lf_tnx_data['frequency'].describe())\n",
    "#Checking the percentage of customers who are buying only once\n",
    "one_time_buyers = round(sum(lf_tnx_data['frequency'] == 0)/float(len(lf_tnx_data))*(100),2)\n",
    "print(\"Percentage of customers buying only once\", one_time_buyers, \"%\")"
   ]
  },
  {
   "cell_type": "markdown",
   "metadata": {},
   "source": [
    "# BG/NBD Model"
   ]
  },
  {
   "cell_type": "code",
   "execution_count": 42,
   "metadata": {
    "scrolled": true
   },
   "outputs": [
    {
     "data": {
      "text/html": [
       "<div>\n",
       "<style scoped>\n",
       "    .dataframe tbody tr th:only-of-type {\n",
       "        vertical-align: middle;\n",
       "    }\n",
       "\n",
       "    .dataframe tbody tr th {\n",
       "        vertical-align: top;\n",
       "    }\n",
       "\n",
       "    .dataframe thead th {\n",
       "        text-align: right;\n",
       "    }\n",
       "</style>\n",
       "<table border=\"1\" class=\"dataframe\">\n",
       "  <thead>\n",
       "    <tr style=\"text-align: right;\">\n",
       "      <th></th>\n",
       "      <th>coef</th>\n",
       "      <th>se(coef)</th>\n",
       "      <th>lower 95% bound</th>\n",
       "      <th>upper 95% bound</th>\n",
       "    </tr>\n",
       "  </thead>\n",
       "  <tbody>\n",
       "    <tr>\n",
       "      <th>r</th>\n",
       "      <td>0.553097</td>\n",
       "      <td>0.010979</td>\n",
       "      <td>0.531579</td>\n",
       "      <td>0.574616</td>\n",
       "    </tr>\n",
       "    <tr>\n",
       "      <th>alpha</th>\n",
       "      <td>40.926113</td>\n",
       "      <td>1.188496</td>\n",
       "      <td>38.596662</td>\n",
       "      <td>43.255565</td>\n",
       "    </tr>\n",
       "    <tr>\n",
       "      <th>a</th>\n",
       "      <td>0.040456</td>\n",
       "      <td>0.002875</td>\n",
       "      <td>0.034821</td>\n",
       "      <td>0.046090</td>\n",
       "    </tr>\n",
       "    <tr>\n",
       "      <th>b</th>\n",
       "      <td>0.316101</td>\n",
       "      <td>0.018391</td>\n",
       "      <td>0.280054</td>\n",
       "      <td>0.352147</td>\n",
       "    </tr>\n",
       "  </tbody>\n",
       "</table>\n",
       "</div>"
      ],
      "text/plain": [
       "            coef  se(coef)  lower 95% bound  upper 95% bound\n",
       "r       0.553097  0.010979         0.531579         0.574616\n",
       "alpha  40.926113  1.188496        38.596662        43.255565\n",
       "a       0.040456  0.002875         0.034821         0.046090\n",
       "b       0.316101  0.018391         0.280054         0.352147"
      ]
     },
     "execution_count": 42,
     "metadata": {},
     "output_type": "execute_result"
    }
   ],
   "source": [
    "#Analysis using BG/NBD model\n",
    "bgf = BetaGeoFitter(penalizer_coef=0.1)\n",
    "bgf.fit(lf_tnx_data['frequency'], lf_tnx_data['recency'], lf_tnx_data['T'])\n",
    "bgf.summary"
   ]
  },
  {
   "cell_type": "code",
   "execution_count": 43,
   "metadata": {},
   "outputs": [
    {
     "name": "stderr",
     "output_type": "stream",
     "text": [
      "C:\\Users\\Gollamudi\\Anaconda3\\lib\\site-packages\\lifetimes\\fitters\\beta_geo_fitter.py:256: RuntimeWarning:\n",
      "\n",
      "overflow encountered in double_scalars\n",
      "\n"
     ]
    },
    {
     "data": {
      "text/plain": [
       "<matplotlib.axes._subplots.AxesSubplot at 0x23db4f07c48>"
      ]
     },
     "execution_count": 43,
     "metadata": {},
     "output_type": "execute_result"
    },
    {
     "data": {
      "image/png": "[encoded data removed]",
      "text/plain": [
       "<Figure size 576x432 with 2 Axes>"
      ]
     },
     "metadata": {
      "needs_background": "light"
     },
     "output_type": "display_data"
    }
   ],
   "source": [
    "#Relationship between recency and frequency\n",
    "%matplotlib inline\n",
    "import matplotlib.pyplot as plt\n",
    "from lifetimes.plotting import plot_frequency_recency_matrix\n",
    "fig = plt.figure(figsize=(8,6))\n",
    "plot_frequency_recency_matrix(bgf)"
   ]
  },
  {
   "cell_type": "code",
   "execution_count": 44,
   "metadata": {},
   "outputs": [
    {
     "data": {
      "text/plain": [
       "<matplotlib.axes._subplots.AxesSubplot at 0x23db4f06208>"
      ]
     },
     "execution_count": 44,
     "metadata": {},
     "output_type": "execute_result"
    },
    {
     "data": {
      "image/png": "[encoded data removed]",
      "text/plain": [
       "<Figure size 576x432 with 2 Axes>"
      ]
     },
     "metadata": {
      "needs_background": "light"
     },
     "output_type": "display_data"
    }
   ],
   "source": [
    "#Predicting the active customers\n",
    "from lifetimes.plotting import plot_probability_alive_matrix\n",
    "fig = plt.figure(figsize=(8,6))\n",
    "plot_probability_alive_matrix(bgf)"
   ]
  },
  {
   "cell_type": "code",
   "execution_count": 45,
   "metadata": {},
   "outputs": [
    {
     "data": {
      "text/html": [
       "<div>\n",
       "<style scoped>\n",
       "    .dataframe tbody tr th:only-of-type {\n",
       "        vertical-align: middle;\n",
       "    }\n",
       "\n",
       "    .dataframe tbody tr th {\n",
       "        vertical-align: top;\n",
       "    }\n",
       "\n",
       "    .dataframe thead th {\n",
       "        text-align: right;\n",
       "    }\n",
       "</style>\n",
       "<table border=\"1\" class=\"dataframe\">\n",
       "  <thead>\n",
       "    <tr style=\"text-align: right;\">\n",
       "      <th></th>\n",
       "      <th>Customer ID</th>\n",
       "      <th>frequency</th>\n",
       "      <th>recency</th>\n",
       "      <th>T</th>\n",
       "      <th>monetary_value</th>\n",
       "      <th>pred_num_tnx</th>\n",
       "    </tr>\n",
       "  </thead>\n",
       "  <tbody>\n",
       "    <tr>\n",
       "      <th>0</th>\n",
       "      <td>14911.0</td>\n",
       "      <td>284.0</td>\n",
       "      <td>737.0</td>\n",
       "      <td>738.0</td>\n",
       "      <td>811.488521</td>\n",
       "      <td>3.65</td>\n",
       "    </tr>\n",
       "    <tr>\n",
       "      <th>1</th>\n",
       "      <td>12748.0</td>\n",
       "      <td>206.0</td>\n",
       "      <td>735.0</td>\n",
       "      <td>735.0</td>\n",
       "      <td>203.890825</td>\n",
       "      <td>2.66</td>\n",
       "    </tr>\n",
       "    <tr>\n",
       "      <th>2</th>\n",
       "      <td>15311.0</td>\n",
       "      <td>201.0</td>\n",
       "      <td>738.0</td>\n",
       "      <td>738.0</td>\n",
       "      <td>332.887662</td>\n",
       "      <td>2.59</td>\n",
       "    </tr>\n",
       "    <tr>\n",
       "      <th>3</th>\n",
       "      <td>17841.0</td>\n",
       "      <td>193.0</td>\n",
       "      <td>736.0</td>\n",
       "      <td>737.0</td>\n",
       "      <td>323.643679</td>\n",
       "      <td>2.49</td>\n",
       "    </tr>\n",
       "    <tr>\n",
       "      <th>4</th>\n",
       "      <td>14606.0</td>\n",
       "      <td>181.0</td>\n",
       "      <td>735.0</td>\n",
       "      <td>736.0</td>\n",
       "      <td>150.026961</td>\n",
       "      <td>2.34</td>\n",
       "    </tr>\n",
       "    <tr>\n",
       "      <th>5</th>\n",
       "      <td>13089.0</td>\n",
       "      <td>161.0</td>\n",
       "      <td>735.0</td>\n",
       "      <td>737.0</td>\n",
       "      <td>554.911988</td>\n",
       "      <td>2.08</td>\n",
       "    </tr>\n",
       "    <tr>\n",
       "      <th>6</th>\n",
       "      <td>14156.0</td>\n",
       "      <td>147.0</td>\n",
       "      <td>729.0</td>\n",
       "      <td>738.0</td>\n",
       "      <td>775.546395</td>\n",
       "      <td>1.89</td>\n",
       "    </tr>\n",
       "    <tr>\n",
       "      <th>7</th>\n",
       "      <td>14527.0</td>\n",
       "      <td>135.0</td>\n",
       "      <td>735.0</td>\n",
       "      <td>737.0</td>\n",
       "      <td>169.232370</td>\n",
       "      <td>1.74</td>\n",
       "    </tr>\n",
       "    <tr>\n",
       "      <th>8</th>\n",
       "      <td>16422.0</td>\n",
       "      <td>118.0</td>\n",
       "      <td>721.0</td>\n",
       "      <td>738.0</td>\n",
       "      <td>206.200339</td>\n",
       "      <td>1.51</td>\n",
       "    </tr>\n",
       "    <tr>\n",
       "      <th>9</th>\n",
       "      <td>13798.0</td>\n",
       "      <td>101.0</td>\n",
       "      <td>730.0</td>\n",
       "      <td>731.0</td>\n",
       "      <td>297.055842</td>\n",
       "      <td>1.31</td>\n",
       "    </tr>\n",
       "  </tbody>\n",
       "</table>\n",
       "</div>"
      ],
      "text/plain": [
       "   Customer ID  frequency  recency      T  monetary_value  pred_num_tnx\n",
       "0      14911.0      284.0    737.0  738.0      811.488521          3.65\n",
       "1      12748.0      206.0    735.0  735.0      203.890825          2.66\n",
       "2      15311.0      201.0    738.0  738.0      332.887662          2.59\n",
       "3      17841.0      193.0    736.0  737.0      323.643679          2.49\n",
       "4      14606.0      181.0    735.0  736.0      150.026961          2.34\n",
       "5      13089.0      161.0    735.0  737.0      554.911988          2.08\n",
       "6      14156.0      147.0    729.0  738.0      775.546395          1.89\n",
       "7      14527.0      135.0    735.0  737.0      169.232370          1.74\n",
       "8      16422.0      118.0    721.0  738.0      206.200339          1.51\n",
       "9      13798.0      101.0    730.0  731.0      297.055842          1.31"
      ]
     },
     "execution_count": 45,
     "metadata": {},
     "output_type": "execute_result"
    }
   ],
   "source": [
    "#Based on historical data predicting the future number of transactions for next 10 days using BG/NBD model\n",
    "t = 10\n",
    "lf_tnx_data['pred_num_tnx'] = round(bgf.conditional_expected_number_of_purchases_up_to_time(t, lf_tnx_data['frequency'], lf_tnx_data['recency'], lf_tnx_data['T']),2)\n",
    "lf_tnx_data.sort_values(by='pred_num_tnx', ascending=False).head(10).reset_index()"
   ]
  },
  {
   "cell_type": "code",
   "execution_count": 46,
   "metadata": {},
   "outputs": [
    {
     "data": {
      "text/plain": [
       "<matplotlib.axes._subplots.AxesSubplot at 0x23db2d97588>"
      ]
     },
     "execution_count": 46,
     "metadata": {},
     "output_type": "execute_result"
    },
    {
     "data": {
      "image/png": "[encoded data removed]",
      "text/plain": [
       "<Figure size 432x288 with 1 Axes>"
      ]
     },
     "metadata": {
      "needs_background": "light"
     },
     "output_type": "display_data"
    }
   ],
   "source": [
    "#Assesing the model with actual values\n",
    "from lifetimes.plotting import plot_period_transactions\n",
    "plot_period_transactions(bgf)"
   ]
  },
  {
   "cell_type": "markdown",
   "metadata": {},
   "source": [
    "# Gamma-Gamma Model"
   ]
  },
  {
   "cell_type": "code",
   "execution_count": 47,
   "metadata": {},
   "outputs": [
    {
     "data": {
      "text/html": [
       "<div>\n",
       "<style scoped>\n",
       "    .dataframe tbody tr th:only-of-type {\n",
       "        vertical-align: middle;\n",
       "    }\n",
       "\n",
       "    .dataframe tbody tr th {\n",
       "        vertical-align: top;\n",
       "    }\n",
       "\n",
       "    .dataframe thead th {\n",
       "        text-align: right;\n",
       "    }\n",
       "</style>\n",
       "<table border=\"1\" class=\"dataframe\">\n",
       "  <thead>\n",
       "    <tr style=\"text-align: right;\">\n",
       "      <th></th>\n",
       "      <th>frequency</th>\n",
       "      <th>monetary_value</th>\n",
       "    </tr>\n",
       "  </thead>\n",
       "  <tbody>\n",
       "    <tr>\n",
       "      <th>frequency</th>\n",
       "      <td>1.000000</td>\n",
       "      <td>0.259375</td>\n",
       "    </tr>\n",
       "    <tr>\n",
       "      <th>monetary_value</th>\n",
       "      <td>0.259375</td>\n",
       "      <td>1.000000</td>\n",
       "    </tr>\n",
       "  </tbody>\n",
       "</table>\n",
       "</div>"
      ],
      "text/plain": [
       "                frequency  monetary_value\n",
       "frequency        1.000000        0.259375\n",
       "monetary_value   0.259375        1.000000"
      ]
     },
     "execution_count": 47,
     "metadata": {},
     "output_type": "execute_result"
    }
   ],
   "source": [
    "#In order to use the Gamma-Gamma model we need to make sure that there is no correlation between the columns frequency and monetary_value\n",
    "lf_tnx_data[['frequency', 'monetary_value']].corr()"
   ]
  },
  {
   "cell_type": "code",
   "execution_count": 48,
   "metadata": {},
   "outputs": [
    {
     "name": "stdout",
     "output_type": "stream",
     "text": [
      "   Customer ID  frequency  recency      T  monetary_value  pred_num_tnx\n",
      "0      12346.0       10.0    400.0  725.0       35.854000          0.06\n",
      "1      12347.0        7.0    402.0  404.0      548.951429          0.17\n",
      "2      12348.0        4.0    363.0  438.0      140.637500          0.09\n",
      "3      12349.0        4.0    717.0  735.0      822.337500          0.06\n",
      "4      12352.0        8.0    356.0  392.0      200.616250          0.20\n",
      "-----------------------------------------------------------\n",
      "The number of returning customers are : 4398\n"
     ]
    }
   ],
   "source": [
    "#checking the customers who are doing at least one repeat purchases\n",
    "shortlst_customers = lf_tnx_data[lf_tnx_data['frequency']>0]\n",
    "print(shortlst_customers.head().reset_index())\n",
    "#Number of returning customers\n",
    "print('-----------------------------------------------------------')\n",
    "print(\"The number of returning customers are :\", len(shortlst_customers))"
   ]
  },
  {
   "cell_type": "code",
   "execution_count": 49,
   "metadata": {},
   "outputs": [
    {
     "data": {
      "text/html": [
       "<div>\n",
       "<style scoped>\n",
       "    .dataframe tbody tr th:only-of-type {\n",
       "        vertical-align: middle;\n",
       "    }\n",
       "\n",
       "    .dataframe tbody tr th {\n",
       "        vertical-align: top;\n",
       "    }\n",
       "\n",
       "    .dataframe thead th {\n",
       "        text-align: right;\n",
       "    }\n",
       "</style>\n",
       "<table border=\"1\" class=\"dataframe\">\n",
       "  <thead>\n",
       "    <tr style=\"text-align: right;\">\n",
       "      <th></th>\n",
       "      <th>coef</th>\n",
       "      <th>se(coef)</th>\n",
       "      <th>lower 95% bound</th>\n",
       "      <th>upper 95% bound</th>\n",
       "    </tr>\n",
       "  </thead>\n",
       "  <tbody>\n",
       "    <tr>\n",
       "      <th>p</th>\n",
       "      <td>1.039410</td>\n",
       "      <td>0.023862</td>\n",
       "      <td>0.992640</td>\n",
       "      <td>1.086180</td>\n",
       "    </tr>\n",
       "    <tr>\n",
       "      <th>q</th>\n",
       "      <td>0.197981</td>\n",
       "      <td>0.003249</td>\n",
       "      <td>0.191613</td>\n",
       "      <td>0.204349</td>\n",
       "    </tr>\n",
       "    <tr>\n",
       "      <th>v</th>\n",
       "      <td>0.956114</td>\n",
       "      <td>0.024721</td>\n",
       "      <td>0.907660</td>\n",
       "      <td>1.004567</td>\n",
       "    </tr>\n",
       "  </tbody>\n",
       "</table>\n",
       "</div>"
      ],
      "text/plain": [
       "       coef  se(coef)  lower 95% bound  upper 95% bound\n",
       "p  1.039410  0.023862         0.992640         1.086180\n",
       "q  0.197981  0.003249         0.191613         0.204349\n",
       "v  0.956114  0.024721         0.907660         1.004567"
      ]
     },
     "execution_count": 49,
     "metadata": {},
     "output_type": "execute_result"
    }
   ],
   "source": [
    "lf_tnx_data = lf_tnx_data.loc[lf_tnx_data['monetary_value'] > 0, :]\n",
    "#Analaysis using Gamma-Gamma model\n",
    "ggf = GammaGammaFitter(penalizer_coef = 0.1)\n",
    "ggf.fit(lf_tnx_data['frequency'], lf_tnx_data['monetary_value'])\n",
    "ggf.summary"
   ]
  },
  {
   "cell_type": "code",
   "execution_count": 50,
   "metadata": {},
   "outputs": [
    {
     "name": "stdout",
     "output_type": "stream",
     "text": [
      "Customer ID\n",
      "12346.0       38.955453\n",
      "12347.0      617.112296\n",
      "12348.0      174.547095\n",
      "12349.0     1019.178605\n",
      "12352.0      222.163731\n",
      "12353.0      309.803775\n",
      "12355.0     1343.999235\n",
      "12356.0      830.610713\n",
      "12357.0    21995.069891\n",
      "12358.0      618.217147\n",
      "dtype: float64\n"
     ]
    }
   ],
   "source": [
    "#Estimating the average transaction value of each customer\n",
    "print(ggf.conditional_expected_average_profit(lf_tnx_data['frequency'], lf_tnx_data['monetary_value']).head(10))"
   ]
  },
  {
   "cell_type": "code",
   "execution_count": 51,
   "metadata": {},
   "outputs": [
    {
     "data": {
      "text/html": [
       "<div>\n",
       "<style scoped>\n",
       "    .dataframe tbody tr th:only-of-type {\n",
       "        vertical-align: middle;\n",
       "    }\n",
       "\n",
       "    .dataframe tbody tr th {\n",
       "        vertical-align: top;\n",
       "    }\n",
       "\n",
       "    .dataframe thead th {\n",
       "        text-align: right;\n",
       "    }\n",
       "</style>\n",
       "<table border=\"1\" class=\"dataframe\">\n",
       "  <thead>\n",
       "    <tr style=\"text-align: right;\">\n",
       "      <th></th>\n",
       "      <th>Customer ID</th>\n",
       "      <th>frequency</th>\n",
       "      <th>recency</th>\n",
       "      <th>T</th>\n",
       "      <th>monetary_value</th>\n",
       "      <th>pred_num_tnx</th>\n",
       "      <th>pred_tnx_value</th>\n",
       "    </tr>\n",
       "  </thead>\n",
       "  <tbody>\n",
       "    <tr>\n",
       "      <th>0</th>\n",
       "      <td>12346.0</td>\n",
       "      <td>10.0</td>\n",
       "      <td>400.0</td>\n",
       "      <td>725.0</td>\n",
       "      <td>35.854000</td>\n",
       "      <td>0.06</td>\n",
       "      <td>38.96</td>\n",
       "    </tr>\n",
       "    <tr>\n",
       "      <th>1</th>\n",
       "      <td>12347.0</td>\n",
       "      <td>7.0</td>\n",
       "      <td>402.0</td>\n",
       "      <td>404.0</td>\n",
       "      <td>548.951429</td>\n",
       "      <td>0.17</td>\n",
       "      <td>617.11</td>\n",
       "    </tr>\n",
       "    <tr>\n",
       "      <th>2</th>\n",
       "      <td>12348.0</td>\n",
       "      <td>4.0</td>\n",
       "      <td>363.0</td>\n",
       "      <td>438.0</td>\n",
       "      <td>140.637500</td>\n",
       "      <td>0.09</td>\n",
       "      <td>174.55</td>\n",
       "    </tr>\n",
       "    <tr>\n",
       "      <th>3</th>\n",
       "      <td>12349.0</td>\n",
       "      <td>4.0</td>\n",
       "      <td>717.0</td>\n",
       "      <td>735.0</td>\n",
       "      <td>822.337500</td>\n",
       "      <td>0.06</td>\n",
       "      <td>1019.18</td>\n",
       "    </tr>\n",
       "    <tr>\n",
       "      <th>4</th>\n",
       "      <td>12352.0</td>\n",
       "      <td>8.0</td>\n",
       "      <td>356.0</td>\n",
       "      <td>392.0</td>\n",
       "      <td>200.616250</td>\n",
       "      <td>0.20</td>\n",
       "      <td>222.16</td>\n",
       "    </tr>\n",
       "  </tbody>\n",
       "</table>\n",
       "</div>"
      ],
      "text/plain": [
       "   Customer ID  frequency  recency      T  monetary_value  pred_num_tnx  \\\n",
       "0      12346.0       10.0    400.0  725.0       35.854000          0.06   \n",
       "1      12347.0        7.0    402.0  404.0      548.951429          0.17   \n",
       "2      12348.0        4.0    363.0  438.0      140.637500          0.09   \n",
       "3      12349.0        4.0    717.0  735.0      822.337500          0.06   \n",
       "4      12352.0        8.0    356.0  392.0      200.616250          0.20   \n",
       "\n",
       "   pred_tnx_value  \n",
       "0           38.96  \n",
       "1          617.11  \n",
       "2          174.55  \n",
       "3         1019.18  \n",
       "4          222.16  "
      ]
     },
     "execution_count": 51,
     "metadata": {},
     "output_type": "execute_result"
    }
   ],
   "source": [
    "#predicting the transaction values and putting along with the predicted number of transactions\n",
    "lf_tnx_data['pred_tnx_value'] = round(ggf.conditional_expected_average_profit(lf_tnx_data['frequency'], lf_tnx_data['monetary_value']),2)\n",
    "lf_tnx_data.reset_index().head()"
   ]
  },
  {
   "cell_type": "markdown",
   "metadata": {},
   "source": [
    "# BG-NBD & Gamma-Gamma"
   ]
  },
  {
   "cell_type": "code",
   "execution_count": 52,
   "metadata": {},
   "outputs": [],
   "source": [
    "#Split into train - test\n",
    "rfm_train_test = calibration_and_holdout_data(transactions_data, 'Customer ID', 'date',\n",
    "                                        calibration_period_end='2011-09-12',\n",
    "                                        monetary_value_col = 'Total_Revenue')   \n",
    "\n",
    "#Selecting only customers with positive value in the calibration period\n",
    "rfm_train_test = rfm_train_test.loc[rfm_train_test['monetary_value_cal'] > 0, :]"
   ]
  },
  {
   "cell_type": "code",
   "execution_count": 53,
   "metadata": {},
   "outputs": [
    {
     "data": {
      "text/plain": [
       "<lifetimes.BetaGeoFitter: fitted with 3856 subjects, a: 0.08, alpha: 50.53, b: 0.41, r: 0.95>"
      ]
     },
     "execution_count": 53,
     "metadata": {},
     "output_type": "execute_result"
    }
   ],
   "source": [
    "#Train the BG/NBD and Gamma-Gamma model\n",
    "bgf = BetaGeoFitter(penalizer_coef=0.1)\n",
    "bgf.fit(rfm_train_test['frequency_cal'], rfm_train_test['recency_cal'], rfm_train_test['T_cal'])"
   ]
  },
  {
   "cell_type": "code",
   "execution_count": 54,
   "metadata": {},
   "outputs": [
    {
     "data": {
      "text/plain": [
       "<lifetimes.GammaGammaFitter: fitted with 3856 subjects, p: 0.79, q: 6.03, v: 1684.30>"
      ]
     },
     "execution_count": 54,
     "metadata": {},
     "output_type": "execute_result"
    }
   ],
   "source": [
    "ggf = GammaGammaFitter(penalizer_coef = 0)\n",
    "ggf.fit(rfm_train_test['frequency_cal'],\n",
    "        rfm_train_test['monetary_value_cal'])"
   ]
  },
  {
   "cell_type": "code",
   "execution_count": 55,
   "metadata": {},
   "outputs": [],
   "source": [
    "#Predict the expected number of transactions in the next 90 days\n",
    "predicted_bgf = bgf.predict(90,\n",
    "                        rfm_train_test['frequency_cal'], \n",
    "                        rfm_train_test['recency_cal'], \n",
    "                        rfm_train_test['T_cal'])\n",
    "trans_pred = predicted_bgf.fillna(0)\n",
    "\n",
    "#Predict the average order value\n",
    "monetary_pred = ggf.conditional_expected_average_profit(rfm_train_test['frequency_cal'],\n",
    "                                        rfm_train_test['monetary_value_cal'])\n",
    "\n",
    "#Putting it all together\n",
    "sales_pred = trans_pred * monetary_pred"
   ]
  },
  {
   "cell_type": "code",
   "execution_count": 56,
   "metadata": {},
   "outputs": [],
   "source": [
    "actual = rfm_train_test['monetary_value_holdout'] *  rfm_train_test['frequency_holdout']"
   ]
  },
  {
   "cell_type": "code",
   "execution_count": 57,
   "metadata": {},
   "outputs": [],
   "source": [
    "#Evaluating the model\n",
    "def evaluate(actual, sales_prediction):\n",
    "    print(f\"Total Sales Actual: {np.round(actual.sum())}\")\n",
    "    print(f\"Total Sales Predicted: {np.round(sales_prediction.sum())}\")\n",
    "    print(f\"Individual R2 score: {r2_score(actual, sales_prediction)} \")\n",
    "    print(f\"Individual Mean Absolute Error: {mean_absolute_error(actual, sales_prediction)}\")\n",
    "    plt.scatter(sales_prediction, actual)\n",
    "    plt.xlabel('Prediction')\n",
    "    plt.ylabel('Actual')      \n",
    "    plt.show()"
   ]
  },
  {
   "cell_type": "code",
   "execution_count": 58,
   "metadata": {
    "scrolled": true
   },
   "outputs": [
    {
     "name": "stdout",
     "output_type": "stream",
     "text": [
      "Total Sales Actual: 1504023.0\n",
      "Total Sales Predicted: 1223238.0\n",
      "Individual R2 score: 0.5391298575485897 \n",
      "Individual Mean Absolute Error: 278.0411198140317\n"
     ]
    },
    {
     "data": {
      "image/png": "[encoded data removed]",
      "text/plain": [
       "<Figure size 432x288 with 1 Axes>"
      ]
     },
     "metadata": {
      "needs_background": "light"
     },
     "output_type": "display_data"
    }
   ],
   "source": [
    "evaluate(actual, sales_pred)"
   ]
  },
  {
   "cell_type": "code",
   "execution_count": 59,
   "metadata": {},
   "outputs": [],
   "source": [
    "mse = mean_squared_error(actual, sales_pred)"
   ]
  },
  {
   "cell_type": "code",
   "execution_count": 60,
   "metadata": {},
   "outputs": [
    {
     "name": "stdout",
     "output_type": "stream",
     "text": [
      "655.9139026736309\n"
     ]
    }
   ],
   "source": [
    "rmse = math.sqrt(mse)\n",
    "print(rmse)"
   ]
  },
  {
   "cell_type": "markdown",
   "metadata": {},
   "source": [
    "# Machine Learning Models"
   ]
  },
  {
   "cell_type": "code",
   "execution_count": 61,
   "metadata": {},
   "outputs": [],
   "source": [
    "#adding month and year column by splitting the InvoiceDate column\n",
    "transactions_data['Month_Year'] = transactions_data['date'].apply(lambda x: x.strftime('%b-%Y'))"
   ]
  },
  {
   "cell_type": "code",
   "execution_count": 62,
   "metadata": {},
   "outputs": [
    {
     "data": {
      "text/html": [
       "<div>\n",
       "<style scoped>\n",
       "    .dataframe tbody tr th:only-of-type {\n",
       "        vertical-align: middle;\n",
       "    }\n",
       "\n",
       "    .dataframe tbody tr th {\n",
       "        vertical-align: top;\n",
       "    }\n",
       "\n",
       "    .dataframe thead th {\n",
       "        text-align: right;\n",
       "    }\n",
       "</style>\n",
       "<table border=\"1\" class=\"dataframe\">\n",
       "  <thead>\n",
       "    <tr style=\"text-align: right;\">\n",
       "      <th>Month_Year</th>\n",
       "      <th>Customer ID</th>\n",
       "      <th>Apr-2010</th>\n",
       "      <th>Apr-2011</th>\n",
       "      <th>Aug-2010</th>\n",
       "      <th>Aug-2011</th>\n",
       "      <th>Dec-2009</th>\n",
       "      <th>Dec-2010</th>\n",
       "      <th>Dec-2011</th>\n",
       "      <th>Feb-2010</th>\n",
       "      <th>Feb-2011</th>\n",
       "      <th>...</th>\n",
       "      <th>Mar-2010</th>\n",
       "      <th>Mar-2011</th>\n",
       "      <th>May-2010</th>\n",
       "      <th>May-2011</th>\n",
       "      <th>Nov-2010</th>\n",
       "      <th>Nov-2011</th>\n",
       "      <th>Oct-2010</th>\n",
       "      <th>Oct-2011</th>\n",
       "      <th>Sep-2010</th>\n",
       "      <th>Sep-2011</th>\n",
       "    </tr>\n",
       "  </thead>\n",
       "  <tbody>\n",
       "    <tr>\n",
       "      <th>0</th>\n",
       "      <td>12346.0</td>\n",
       "      <td>0.00</td>\n",
       "      <td>0.00</td>\n",
       "      <td>0.0</td>\n",
       "      <td>0.00</td>\n",
       "      <td>113.50</td>\n",
       "      <td>0.00</td>\n",
       "      <td>0.00</td>\n",
       "      <td>0.0</td>\n",
       "      <td>0.00</td>\n",
       "      <td>...</td>\n",
       "      <td>27.05</td>\n",
       "      <td>0.0</td>\n",
       "      <td>0.00</td>\n",
       "      <td>0.0</td>\n",
       "      <td>0.0</td>\n",
       "      <td>0.00</td>\n",
       "      <td>5.50</td>\n",
       "      <td>0.00</td>\n",
       "      <td>0.0</td>\n",
       "      <td>0.00</td>\n",
       "    </tr>\n",
       "    <tr>\n",
       "      <th>1</th>\n",
       "      <td>12347.0</td>\n",
       "      <td>0.00</td>\n",
       "      <td>393.01</td>\n",
       "      <td>0.0</td>\n",
       "      <td>514.71</td>\n",
       "      <td>0.00</td>\n",
       "      <td>696.49</td>\n",
       "      <td>230.02</td>\n",
       "      <td>0.0</td>\n",
       "      <td>0.00</td>\n",
       "      <td>...</td>\n",
       "      <td>0.00</td>\n",
       "      <td>0.0</td>\n",
       "      <td>0.00</td>\n",
       "      <td>0.0</td>\n",
       "      <td>0.0</td>\n",
       "      <td>0.00</td>\n",
       "      <td>609.25</td>\n",
       "      <td>1170.96</td>\n",
       "      <td>0.0</td>\n",
       "      <td>0.00</td>\n",
       "    </tr>\n",
       "    <tr>\n",
       "      <th>2</th>\n",
       "      <td>12348.0</td>\n",
       "      <td>0.00</td>\n",
       "      <td>113.75</td>\n",
       "      <td>0.0</td>\n",
       "      <td>0.00</td>\n",
       "      <td>0.00</td>\n",
       "      <td>302.10</td>\n",
       "      <td>0.00</td>\n",
       "      <td>0.0</td>\n",
       "      <td>0.00</td>\n",
       "      <td>...</td>\n",
       "      <td>0.00</td>\n",
       "      <td>0.0</td>\n",
       "      <td>0.00</td>\n",
       "      <td>0.0</td>\n",
       "      <td>0.0</td>\n",
       "      <td>0.00</td>\n",
       "      <td>0.00</td>\n",
       "      <td>0.00</td>\n",
       "      <td>259.6</td>\n",
       "      <td>66.75</td>\n",
       "    </tr>\n",
       "    <tr>\n",
       "      <th>3</th>\n",
       "      <td>12349.0</td>\n",
       "      <td>901.48</td>\n",
       "      <td>0.00</td>\n",
       "      <td>0.0</td>\n",
       "      <td>0.00</td>\n",
       "      <td>15.95</td>\n",
       "      <td>0.00</td>\n",
       "      <td>0.00</td>\n",
       "      <td>0.0</td>\n",
       "      <td>0.00</td>\n",
       "      <td>...</td>\n",
       "      <td>0.00</td>\n",
       "      <td>0.0</td>\n",
       "      <td>6.75</td>\n",
       "      <td>0.0</td>\n",
       "      <td>0.0</td>\n",
       "      <td>1306.05</td>\n",
       "      <td>1075.07</td>\n",
       "      <td>0.00</td>\n",
       "      <td>0.0</td>\n",
       "      <td>0.00</td>\n",
       "    </tr>\n",
       "    <tr>\n",
       "      <th>4</th>\n",
       "      <td>12350.0</td>\n",
       "      <td>0.00</td>\n",
       "      <td>0.00</td>\n",
       "      <td>0.0</td>\n",
       "      <td>0.00</td>\n",
       "      <td>0.00</td>\n",
       "      <td>0.00</td>\n",
       "      <td>0.00</td>\n",
       "      <td>0.0</td>\n",
       "      <td>301.15</td>\n",
       "      <td>...</td>\n",
       "      <td>0.00</td>\n",
       "      <td>0.0</td>\n",
       "      <td>0.00</td>\n",
       "      <td>0.0</td>\n",
       "      <td>0.0</td>\n",
       "      <td>0.00</td>\n",
       "      <td>0.00</td>\n",
       "      <td>0.00</td>\n",
       "      <td>0.0</td>\n",
       "      <td>0.00</td>\n",
       "    </tr>\n",
       "  </tbody>\n",
       "</table>\n",
       "<p>5 rows × 26 columns</p>\n",
       "</div>"
      ],
      "text/plain": [
       "Month_Year  Customer ID  Apr-2010  Apr-2011  Aug-2010  Aug-2011  Dec-2009  \\\n",
       "0               12346.0      0.00      0.00       0.0      0.00    113.50   \n",
       "1               12347.0      0.00    393.01       0.0    514.71      0.00   \n",
       "2               12348.0      0.00    113.75       0.0      0.00      0.00   \n",
       "3               12349.0    901.48      0.00       0.0      0.00     15.95   \n",
       "4               12350.0      0.00      0.00       0.0      0.00      0.00   \n",
       "\n",
       "Month_Year  Dec-2010  Dec-2011  Feb-2010  Feb-2011  ...  Mar-2010  Mar-2011  \\\n",
       "0               0.00      0.00       0.0      0.00  ...     27.05       0.0   \n",
       "1             696.49    230.02       0.0      0.00  ...      0.00       0.0   \n",
       "2             302.10      0.00       0.0      0.00  ...      0.00       0.0   \n",
       "3               0.00      0.00       0.0      0.00  ...      0.00       0.0   \n",
       "4               0.00      0.00       0.0    301.15  ...      0.00       0.0   \n",
       "\n",
       "Month_Year  May-2010  May-2011  Nov-2010  Nov-2011  Oct-2010  Oct-2011  \\\n",
       "0               0.00       0.0       0.0      0.00      5.50      0.00   \n",
       "1               0.00       0.0       0.0      0.00    609.25   1170.96   \n",
       "2               0.00       0.0       0.0      0.00      0.00      0.00   \n",
       "3               6.75       0.0       0.0   1306.05   1075.07      0.00   \n",
       "4               0.00       0.0       0.0      0.00      0.00      0.00   \n",
       "\n",
       "Month_Year  Sep-2010  Sep-2011  \n",
       "0                0.0      0.00  \n",
       "1                0.0      0.00  \n",
       "2              259.6     66.75  \n",
       "3                0.0      0.00  \n",
       "4                0.0      0.00  \n",
       "\n",
       "[5 rows x 26 columns]"
      ]
     },
     "execution_count": 62,
     "metadata": {},
     "output_type": "execute_result"
    }
   ],
   "source": [
    "#Monthly sales data\n",
    "total_sales = transactions_data.pivot_table(index=['Customer ID'], columns=['Month_Year'], values='Total_Revenue', aggfunc='sum', fill_value=0).reset_index()\n",
    "total_sales.head()"
   ]
  },
  {
   "cell_type": "code",
   "execution_count": 63,
   "metadata": {},
   "outputs": [
    {
     "data": {
      "text/html": [
       "<div>\n",
       "<style scoped>\n",
       "    .dataframe tbody tr th:only-of-type {\n",
       "        vertical-align: middle;\n",
       "    }\n",
       "\n",
       "    .dataframe tbody tr th {\n",
       "        vertical-align: top;\n",
       "    }\n",
       "\n",
       "    .dataframe thead th {\n",
       "        text-align: right;\n",
       "    }\n",
       "</style>\n",
       "<table border=\"1\" class=\"dataframe\">\n",
       "  <thead>\n",
       "    <tr style=\"text-align: right;\">\n",
       "      <th>Month_Year</th>\n",
       "      <th>Customer ID</th>\n",
       "      <th>Apr-2010</th>\n",
       "      <th>Apr-2011</th>\n",
       "      <th>Aug-2010</th>\n",
       "      <th>Aug-2011</th>\n",
       "      <th>Dec-2009</th>\n",
       "      <th>Dec-2010</th>\n",
       "      <th>Dec-2011</th>\n",
       "      <th>Feb-2010</th>\n",
       "      <th>Feb-2011</th>\n",
       "      <th>...</th>\n",
       "      <th>Mar-2011</th>\n",
       "      <th>May-2010</th>\n",
       "      <th>May-2011</th>\n",
       "      <th>Nov-2010</th>\n",
       "      <th>Nov-2011</th>\n",
       "      <th>Oct-2010</th>\n",
       "      <th>Oct-2011</th>\n",
       "      <th>Sep-2010</th>\n",
       "      <th>Sep-2011</th>\n",
       "      <th>CLTV</th>\n",
       "    </tr>\n",
       "  </thead>\n",
       "  <tbody>\n",
       "    <tr>\n",
       "      <th>0</th>\n",
       "      <td>12346.0</td>\n",
       "      <td>0.00</td>\n",
       "      <td>0.00</td>\n",
       "      <td>0.0</td>\n",
       "      <td>0.00</td>\n",
       "      <td>113.50</td>\n",
       "      <td>0.00</td>\n",
       "      <td>0.00</td>\n",
       "      <td>0.0</td>\n",
       "      <td>0.00</td>\n",
       "      <td>...</td>\n",
       "      <td>0.0</td>\n",
       "      <td>0.00</td>\n",
       "      <td>0.0</td>\n",
       "      <td>0.0</td>\n",
       "      <td>0.00</td>\n",
       "      <td>5.50</td>\n",
       "      <td>0.00</td>\n",
       "      <td>0.0</td>\n",
       "      <td>0.00</td>\n",
       "      <td>448.54</td>\n",
       "    </tr>\n",
       "    <tr>\n",
       "      <th>1</th>\n",
       "      <td>12347.0</td>\n",
       "      <td>0.00</td>\n",
       "      <td>393.01</td>\n",
       "      <td>0.0</td>\n",
       "      <td>514.71</td>\n",
       "      <td>0.00</td>\n",
       "      <td>696.49</td>\n",
       "      <td>230.02</td>\n",
       "      <td>0.0</td>\n",
       "      <td>0.00</td>\n",
       "      <td>...</td>\n",
       "      <td>0.0</td>\n",
       "      <td>0.00</td>\n",
       "      <td>0.0</td>\n",
       "      <td>0.0</td>\n",
       "      <td>0.00</td>\n",
       "      <td>609.25</td>\n",
       "      <td>1170.96</td>\n",
       "      <td>0.0</td>\n",
       "      <td>0.00</td>\n",
       "      <td>4451.91</td>\n",
       "    </tr>\n",
       "    <tr>\n",
       "      <th>2</th>\n",
       "      <td>12348.0</td>\n",
       "      <td>0.00</td>\n",
       "      <td>113.75</td>\n",
       "      <td>0.0</td>\n",
       "      <td>0.00</td>\n",
       "      <td>0.00</td>\n",
       "      <td>302.10</td>\n",
       "      <td>0.00</td>\n",
       "      <td>0.0</td>\n",
       "      <td>0.00</td>\n",
       "      <td>...</td>\n",
       "      <td>0.0</td>\n",
       "      <td>0.00</td>\n",
       "      <td>0.0</td>\n",
       "      <td>0.0</td>\n",
       "      <td>0.00</td>\n",
       "      <td>0.00</td>\n",
       "      <td>0.00</td>\n",
       "      <td>259.6</td>\n",
       "      <td>66.75</td>\n",
       "      <td>822.15</td>\n",
       "    </tr>\n",
       "    <tr>\n",
       "      <th>3</th>\n",
       "      <td>12349.0</td>\n",
       "      <td>901.48</td>\n",
       "      <td>0.00</td>\n",
       "      <td>0.0</td>\n",
       "      <td>0.00</td>\n",
       "      <td>15.95</td>\n",
       "      <td>0.00</td>\n",
       "      <td>0.00</td>\n",
       "      <td>0.0</td>\n",
       "      <td>0.00</td>\n",
       "      <td>...</td>\n",
       "      <td>0.0</td>\n",
       "      <td>6.75</td>\n",
       "      <td>0.0</td>\n",
       "      <td>0.0</td>\n",
       "      <td>1306.05</td>\n",
       "      <td>1075.07</td>\n",
       "      <td>0.00</td>\n",
       "      <td>0.0</td>\n",
       "      <td>0.00</td>\n",
       "      <td>2403.82</td>\n",
       "    </tr>\n",
       "    <tr>\n",
       "      <th>4</th>\n",
       "      <td>12350.0</td>\n",
       "      <td>0.00</td>\n",
       "      <td>0.00</td>\n",
       "      <td>0.0</td>\n",
       "      <td>0.00</td>\n",
       "      <td>0.00</td>\n",
       "      <td>0.00</td>\n",
       "      <td>0.00</td>\n",
       "      <td>0.0</td>\n",
       "      <td>301.15</td>\n",
       "      <td>...</td>\n",
       "      <td>0.0</td>\n",
       "      <td>0.00</td>\n",
       "      <td>0.0</td>\n",
       "      <td>0.0</td>\n",
       "      <td>0.00</td>\n",
       "      <td>0.00</td>\n",
       "      <td>0.00</td>\n",
       "      <td>0.0</td>\n",
       "      <td>0.00</td>\n",
       "      <td>301.15</td>\n",
       "    </tr>\n",
       "  </tbody>\n",
       "</table>\n",
       "<p>5 rows × 27 columns</p>\n",
       "</div>"
      ],
      "text/plain": [
       "Month_Year  Customer ID  Apr-2010  Apr-2011  Aug-2010  Aug-2011  Dec-2009  \\\n",
       "0               12346.0      0.00      0.00       0.0      0.00    113.50   \n",
       "1               12347.0      0.00    393.01       0.0    514.71      0.00   \n",
       "2               12348.0      0.00    113.75       0.0      0.00      0.00   \n",
       "3               12349.0    901.48      0.00       0.0      0.00     15.95   \n",
       "4               12350.0      0.00      0.00       0.0      0.00      0.00   \n",
       "\n",
       "Month_Year  Dec-2010  Dec-2011  Feb-2010  Feb-2011  ...  Mar-2011  May-2010  \\\n",
       "0               0.00      0.00       0.0      0.00  ...       0.0      0.00   \n",
       "1             696.49    230.02       0.0      0.00  ...       0.0      0.00   \n",
       "2             302.10      0.00       0.0      0.00  ...       0.0      0.00   \n",
       "3               0.00      0.00       0.0      0.00  ...       0.0      6.75   \n",
       "4               0.00      0.00       0.0    301.15  ...       0.0      0.00   \n",
       "\n",
       "Month_Year  May-2011  Nov-2010  Nov-2011  Oct-2010  Oct-2011  Sep-2010  \\\n",
       "0                0.0       0.0      0.00      5.50      0.00       0.0   \n",
       "1                0.0       0.0      0.00    609.25   1170.96       0.0   \n",
       "2                0.0       0.0      0.00      0.00      0.00     259.6   \n",
       "3                0.0       0.0   1306.05   1075.07      0.00       0.0   \n",
       "4                0.0       0.0      0.00      0.00      0.00       0.0   \n",
       "\n",
       "Month_Year  Sep-2011     CLTV  \n",
       "0               0.00   448.54  \n",
       "1               0.00  4451.91  \n",
       "2              66.75   822.15  \n",
       "3               0.00  2403.82  \n",
       "4               0.00   301.15  \n",
       "\n",
       "[5 rows x 27 columns]"
      ]
     },
     "execution_count": 63,
     "metadata": {},
     "output_type": "execute_result"
    }
   ],
   "source": [
    "#creating CLTV column by adding all months data of individual customer\n",
    "total_sales['CLTV'] = total_sales.iloc[:,2:].sum(axis=1)\n",
    "total_sales.head()"
   ]
  },
  {
   "cell_type": "code",
   "execution_count": 64,
   "metadata": {},
   "outputs": [],
   "source": [
    "#Selecting the features by taking last six months data\n",
    "X = total_sales[['Dec-2011', 'Nov-2011', 'Oct-2011', 'Sep-2011', 'Aug-2011', 'Jul-2011']]\n",
    "y = total_sales[['CLTV']]"
   ]
  },
  {
   "cell_type": "code",
   "execution_count": 65,
   "metadata": {},
   "outputs": [],
   "source": [
    "#Train and Test data\n",
    "X_train, X_test, y_train, y_test = train_test_split(X, y, random_state=0)"
   ]
  },
  {
   "cell_type": "markdown",
   "metadata": {},
   "source": [
    "# Random Forest Regressor"
   ]
  },
  {
   "cell_type": "code",
   "execution_count": 66,
   "metadata": {},
   "outputs": [],
   "source": [
    "#Random Forest Regressor\n",
    "rfr = RandomForestRegressor(n_estimators = 20, random_state=10)"
   ]
  },
  {
   "cell_type": "code",
   "execution_count": 67,
   "metadata": {},
   "outputs": [
    {
     "name": "stderr",
     "output_type": "stream",
     "text": [
      "C:\\Users\\Gollamudi\\Anaconda3\\lib\\site-packages\\ipykernel_launcher.py:2: DataConversionWarning:\n",
      "\n",
      "A column-vector y was passed when a 1d array was expected. Please change the shape of y to (n_samples,), for example using ravel().\n",
      "\n"
     ]
    },
    {
     "data": {
      "text/plain": [
       "RandomForestRegressor(n_estimators=20, random_state=10)"
      ]
     },
     "execution_count": 67,
     "metadata": {},
     "output_type": "execute_result"
    }
   ],
   "source": [
    "#Fitting the model\n",
    "rfr.fit(X_train, y_train)"
   ]
  },
  {
   "cell_type": "code",
   "execution_count": 68,
   "metadata": {},
   "outputs": [],
   "source": [
    "#Predicting on test data\n",
    "y_pred = rfr.predict(X_test)"
   ]
  },
  {
   "cell_type": "code",
   "execution_count": 69,
   "metadata": {
    "scrolled": true
   },
   "outputs": [
    {
     "name": "stdout",
     "output_type": "stream",
     "text": [
      "R-Square 0.599637033594776\n"
     ]
    }
   ],
   "source": [
    "#Model Evaluation\n",
    "#R-Square of the model\n",
    "print('R-Square', metrics.r2_score(y_test, y_pred))"
   ]
  },
  {
   "cell_type": "code",
   "execution_count": 70,
   "metadata": {},
   "outputs": [
    {
     "name": "stdout",
     "output_type": "stream",
     "text": [
      "MAE: 1193.3321125026164\n",
      "MSE: 26173413.93672415\n",
      "RMSE: 5115.995889044883\n"
     ]
    }
   ],
   "source": [
    "#Let's see the MAE, MSE and RMSE values of the model\n",
    "print('MAE:', metrics.mean_absolute_error(y_test, y_pred))\n",
    "print('MSE:', metrics.mean_squared_error(y_test, y_pred))\n",
    "print('RMSE:', np.sqrt(metrics.mean_squared_error(y_test, y_pred)))"
   ]
  },
  {
   "cell_type": "code",
   "execution_count": 71,
   "metadata": {},
   "outputs": [
    {
     "name": "stdout",
     "output_type": "stream",
     "text": [
      "Total Sales Actual: Month_Year\n",
      "CLTV    3160087.0\n",
      "dtype: float64\n",
      "Total Sales Predicted: 2889984.0\n",
      "Individual R2 score: 0.599637033594776 \n",
      "Individual Mean Absolute Error: 1193.3321125026164\n"
     ]
    },
    {
     "data": {
      "image/png": "[encoded data removed]",
      "text/plain": [
       "<Figure size 432x288 with 1 Axes>"
      ]
     },
     "metadata": {
      "needs_background": "light"
     },
     "output_type": "display_data"
    }
   ],
   "source": [
    "#Evaluating the model\n",
    "def evaluate(actual, sales_prediction):\n",
    "    print(f\"Total Sales Actual: {np.round(actual.sum())}\")\n",
    "    print(f\"Total Sales Predicted: {np.round(sales_prediction.sum())}\")\n",
    "    print(f\"Individual R2 score: {r2_score(actual, sales_prediction)} \")\n",
    "    print(f\"Individual Mean Absolute Error: {mean_absolute_error(actual, sales_prediction)}\")\n",
    "    plt.scatter(sales_prediction, actual)\n",
    "    plt.xlabel('Prediction')\n",
    "    plt.ylabel('Actual')      \n",
    "    plt.show()\n",
    "\n",
    "evaluate(y_test, y_pred)"
   ]
  },
  {
   "cell_type": "markdown",
   "metadata": {},
   "source": [
    "# Deep Neural Network Model"
   ]
  },
  {
   "cell_type": "code",
   "execution_count": 72,
   "metadata": {},
   "outputs": [],
   "source": [
    "#Building the model\n",
    "def build_model():\n",
    "    model = keras.Sequential([\n",
    "    layers.Dense(32, activation='relu', input_shape=[len(X_train.columns), ]),\n",
    "    layers.Dropout(0.3),\n",
    "    layers.Dense(32, activation='relu'),\n",
    "    layers.Dense(1)\n",
    "    ])\n",
    "\n",
    "    optimizer = tf.keras.optimizers.Adam(0.001)\n",
    "\n",
    "    model.compile(loss='mse',\n",
    "            optimizer=optimizer,\n",
    "            metrics=['mae', 'mse'])\n",
    "    \n",
    "    return model\n",
    "\n",
    "model = build_model()"
   ]
  },
  {
   "cell_type": "code",
   "execution_count": 73,
   "metadata": {},
   "outputs": [
    {
     "name": "stdout",
     "output_type": "stream",
     "text": [
      "Model: \"sequential\"\n",
      "_________________________________________________________________\n",
      "Layer (type)                 Output Shape              Param #   \n",
      "=================================================================\n",
      "dense (Dense)                (None, 32)                224       \n",
      "_________________________________________________________________\n",
      "dropout (Dropout)            (None, 32)                0         \n",
      "_________________________________________________________________\n",
      "dense_1 (Dense)              (None, 32)                1056      \n",
      "_________________________________________________________________\n",
      "dense_2 (Dense)              (None, 1)                 33        \n",
      "=================================================================\n",
      "Total params: 1,313\n",
      "Trainable params: 1,313\n",
      "Non-trainable params: 0\n",
      "_________________________________________________________________\n"
     ]
    }
   ],
   "source": [
    "#Summary of the model\n",
    "model.summary()"
   ]
  },
  {
   "cell_type": "code",
   "execution_count": 74,
   "metadata": {},
   "outputs": [],
   "source": [
    "#To handle the overfitting problem while training the model using esarlystopping method\n",
    "early = EarlyStopping(monitor=\"val_loss\", \n",
    "                      mode=\"min\", \n",
    "                      patience=3)\n",
    "callbacks_list = [early]"
   ]
  },
  {
   "cell_type": "code",
   "execution_count": 75,
   "metadata": {},
   "outputs": [
    {
     "name": "stdout",
     "output_type": "stream",
     "text": [
      "Train on 4456 samples, validate on 1486 samples\n",
      "Epoch 1/50\n",
      "4456/4456 [==============================] - 20s 4ms/sample - loss: 18881357.7129 - mae: 1633.8351 - mse: 18881366.0000 - val_loss: 44161404.9102 - val_mae: 1642.5596 - val_mse: 44161408.0000\n",
      "Epoch 2/50\n",
      "4456/4456 [==============================] - 6s 1ms/sample - loss: 9965141.0784 - mae: 1191.6320 - mse: 9965142.0000 - val_loss: 10947603.6830 - val_mae: 1150.2657 - val_mse: 10947605.0000\n",
      "Epoch 3/50\n",
      "4456/4456 [==============================] - 5s 1ms/sample - loss: 5670129.7778 - mae: 1073.9691 - mse: 5670128.5000 - val_loss: 9315927.2539 - val_mae: 1103.1956 - val_mse: 9315928.0000\n",
      "Epoch 4/50\n",
      "4456/4456 [==============================] - 6s 1ms/sample - loss: 5624507.7888 - mae: 1062.4252 - mse: 5624507.5000 - val_loss: 8667713.2546 - val_mae: 1077.1935 - val_mse: 8667712.0000\n",
      "Epoch 5/50\n",
      "4456/4456 [==============================] - 6s 1ms/sample - loss: 5449446.6406 - mae: 1057.4844 - mse: 5449447.5000 - val_loss: 9149764.9174 - val_mae: 1078.3090 - val_mse: 9149766.0000\n",
      "Epoch 6/50\n",
      "4456/4456 [==============================] - 6s 1ms/sample - loss: 4973608.0754 - mae: 1048.6957 - mse: 4973607.0000 - val_loss: 7598756.6803 - val_mae: 1052.0459 - val_mse: 7598757.5000\n",
      "Epoch 7/50\n",
      "4456/4456 [==============================] - 6s 1ms/sample - loss: 5304567.2704 - mae: 1039.7350 - mse: 5304568.0000 - val_loss: 7359332.6889 - val_mae: 1049.6349 - val_mse: 7359331.5000\n",
      "Epoch 8/50\n",
      "4456/4456 [==============================] - 6s 1ms/sample - loss: 4957535.3272 - mae: 1040.4938 - mse: 4957535.0000 - val_loss: 7156875.4436 - val_mae: 1048.3448 - val_mse: 7156874.5000\n",
      "Epoch 9/50\n",
      "4456/4456 [==============================] - 6s 1ms/sample - loss: 4835528.6544 - mae: 1040.0024 - mse: 4835527.0000 - val_loss: 6647800.7487 - val_mae: 1040.2335 - val_mse: 6647801.0000\n",
      "Epoch 10/50\n",
      "4456/4456 [==============================] - 6s 1ms/sample - loss: 5071107.1035 - mae: 1030.3728 - mse: 5071106.5000 - val_loss: 6899227.5078 - val_mae: 1047.8046 - val_mse: 6899227.0000\n",
      "Epoch 11/50\n",
      "4456/4456 [==============================] - 6s 1ms/sample - loss: 4752722.3041 - mae: 1037.5490 - mse: 4752722.5000 - val_loss: 7486509.5421 - val_mae: 1073.7039 - val_mse: 7486511.5000\n",
      "Epoch 12/50\n",
      "4456/4456 [==============================] - 6s 1ms/sample - loss: 4989355.0561 - mae: 1012.7445 - mse: 4989356.0000 - val_loss: 6845246.4341 - val_mae: 1055.8091 - val_mse: 6845248.5000\n"
     ]
    }
   ],
   "source": [
    "#Traing the model\n",
    "early_history = model.fit(X_train, y_train, \n",
    "                    epochs=50, validation_data = (X_test, y_test), callbacks=callbacks_list)"
   ]
  },
  {
   "cell_type": "code",
   "execution_count": 76,
   "metadata": {},
   "outputs": [],
   "source": [
    "#Predicting with test data\n",
    "dnn_preds = model.predict(X_test)"
   ]
  },
  {
   "cell_type": "code",
   "execution_count": 77,
   "metadata": {},
   "outputs": [
    {
     "name": "stdout",
     "output_type": "stream",
     "text": [
      "Total Sales Actual: Month_Year\n",
      "CLTV    3160087.0\n",
      "dtype: float64\n",
      "Total Sales Predicted: 2933703.0\n",
      "Individual R2 score: 0.8952913354305666 \n",
      "Individual Mean Absolute Error: 1055.8090331155358\n"
     ]
    },
    {
     "data": {
      "image/png": "[encoded data removed]",
      "text/plain": [
       "<Figure size 432x288 with 1 Axes>"
      ]
     },
     "metadata": {
      "needs_background": "light"
     },
     "output_type": "display_data"
    }
   ],
   "source": [
    "#Evaluating the model\n",
    "def evaluate(actual, sales_prediction):\n",
    "    print(f\"Total Sales Actual: {np.round(actual.sum())}\")\n",
    "    print(f\"Total Sales Predicted: {np.round(sales_prediction.sum())}\")\n",
    "    print(f\"Individual R2 score: {r2_score(actual, sales_prediction)} \")\n",
    "    print(f\"Individual Mean Absolute Error: {mean_absolute_error(actual, sales_prediction)}\")\n",
    "    plt.scatter(sales_prediction, actual)\n",
    "    plt.xlabel('Prediction')\n",
    "    plt.ylabel('Actual')      \n",
    "    plt.show()\n",
    "\n",
    "evaluate(y_test, dnn_preds)"
   ]
  },
  {
   "cell_type": "code",
   "execution_count": 78,
   "metadata": {},
   "outputs": [],
   "source": [
    "dnn_mse = mean_squared_error(y_test, dnn_preds)"
   ]
  },
  {
   "cell_type": "code",
   "execution_count": 79,
   "metadata": {},
   "outputs": [
    {
     "name": "stdout",
     "output_type": "stream",
     "text": [
      "2616.3422109878966\n"
     ]
    }
   ],
   "source": [
    "dnn_rmse = math.sqrt(dnn_mse)\n",
    "print(dnn_rmse)"
   ]
  }
 ],
 "metadata": {
  "kernelspec": {
   "display_name": "Python 3",
   "language": "python",
   "name": "python3"
  },
  "language_info": {
   "codemirror_mode": {
    "name": "ipython",
    "version": 3
   },
   "file_extension": ".py",
   "mimetype": "text/x-python",
   "name": "python",
   "nbconvert_exporter": "python",
   "pygments_lexer": "ipython3",
   "version": "3.7.4"
  }
 },
 "nbformat": 4,
 "nbformat_minor": 2
}
